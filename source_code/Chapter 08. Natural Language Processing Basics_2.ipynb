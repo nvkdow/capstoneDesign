{
 "cells": [
  {
   "cell_type": "markdown",
   "metadata": {},
   "source": [
    "Chapter 08. Natural Language Processing Basics_2\n",
    "=====\n",
    "**via KoNLPy, et cetra...**  \n",
    "**practice based on book \"파이썬으로 데이터 주무르기\"**\n",
    "\n",
    "last modified : 2019-06-21  \n",
    "created by : 2017136069 Yu JiHoon\n",
    "\n",
    "---"
   ]
  }
 ],
 "metadata": {
  "kernelspec": {
   "display_name": "Python 3",
   "language": "python",
   "name": "python3"
  },
  "language_info": {
   "codemirror_mode": {
    "name": "ipython",
    "version": 3
   },
   "file_extension": ".py",
   "mimetype": "text/x-python",
   "name": "python",
   "nbconvert_exporter": "python",
   "pygments_lexer": "ipython3",
   "version": "3.6.5"
  }
 },
 "nbformat": 4,
 "nbformat_minor": 2
}
