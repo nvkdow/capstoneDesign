{
 "cells": [
  {
   "cell_type": "markdown",
   "metadata": {},
   "source": [
    "Chapter 04. Economics of Self gas-Station(2016)\n",
    "=====\n",
    "**via Selenium, et cetra...**  \n",
    "**practice based on book \"파이썬으로 데이터 주무르기\"**\n",
    "\n",
    "2019-05-01  \n",
    "2017136069 Yu JiHoon"
   ]
  },
  {
   "cell_type": "markdown",
   "metadata": {},
   "source": [
    "## 1. Selenium Practice"
   ]
  },
  {
   "cell_type": "markdown",
   "metadata": {},
   "source": [
    "### 1-1. Learning Selenium"
   ]
  },
  {
   "cell_type": "code",
   "execution_count": 14,
   "metadata": {},
   "outputs": [],
   "source": [
    "from selenium import webdriver\n",
    "from bs4 import BeautifulSoup\n",
    "\n",
    "driver = webdriver.Chrome('../driver/chromedriver.exe')\n",
    "driver.get(\"http://naver.com\")\n",
    "\n",
    "driver.find_element_by_xpath(\"//*[@id=\\\"account\\\"]/div/a/i\").click()\n",
    "\n",
    "# Naver Login\n",
    "driver.execute_script(\"document.getElementsByName('id')[0].value=\\'dbwglns123\\'\")\n",
    "driver.execute_script(\"document.getElementsByName('pw')[0].value=\\'**********\\'\")\n",
    "driver.find_element_by_xpath('//*[@id=\"frmNIDLogin\"]/fieldset/input').click()\n",
    "driver.implicitly_wait(10)"
   ]
  },
  {
   "cell_type": "code",
   "execution_count": 15,
   "metadata": {},
   "outputs": [
    {
     "name": "stdout",
     "output_type": "stream",
     "text": [
      "['Ubisoft Club', 'Steam', 'HOBBY TRAP', 'LeetCode', 'Steam', 'Steam', 'Answers HQ', 'Answers HQ', 'EA', 'EA', 'LeetCode', '코리아텍', '신한카드', '컬쳐랜드', 'Steam Support']\n"
     ]
    }
   ],
   "source": [
    "# Access to naver mail\n",
    "driver.get(\"http://mail.naver.com\")\n",
    "\n",
    "soup = BeautifulSoup(driver.page_source, 'html.parser')\n",
    "raw_list = soup.find_all('div', 'name _ccr(lst.from) ')\n",
    "send_list = [raw_list[n].find('a').get_text() for n in range(0, len(raw_list))]\n",
    "\n",
    "print(send_list)\n",
    "\n",
    "driver.close()"
   ]
  },
  {
   "cell_type": "markdown",
   "metadata": {},
   "source": [
    "### 1-2. Getting gas-station info per Seoul District"
   ]
  },
  {
   "cell_type": "code",
   "execution_count": null,
   "metadata": {},
   "outputs": [],
   "source": [
    "# Accessing to Opinet(gas-station info service)\n",
    "webdriver = webdriver.Chrome('../driver/chromedriver.exe')\n",
    "webdriver.get('http://www.opinet.co.kr/searRgSelect.do')\n",
    "\n"
   ]
  }
 ],
 "metadata": {
  "kernelspec": {
   "display_name": "Python 3",
   "language": "python",
   "name": "python3"
  },
  "language_info": {
   "codemirror_mode": {
    "name": "ipython",
    "version": 3
   },
   "file_extension": ".py",
   "mimetype": "text/x-python",
   "name": "python",
   "nbconvert_exporter": "python",
   "pygments_lexer": "ipython3",
   "version": "3.6.5"
  }
 },
 "nbformat": 4,
 "nbformat_minor": 2
}
